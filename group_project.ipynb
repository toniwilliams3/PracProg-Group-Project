{
 "cells": [
  {
   "cell_type": "code",
   "execution_count": null,
   "id": "16cb395f-3015-4ffc-80f5-bcbb00f87301",
   "metadata": {},
   "outputs": [],
   "source": [
    "import numpy as np\n",
    "import matplotlib.pyplot as plt\n",
    "from scipy.optimize import curve_fit\n",
    "\n",
    "# Reading data from the data file\n",
    "file_path = 'ASTR19_S22_group_project_data.txt'\n",
    "data_set = np.loadtxt(file_path, skiprows=1, usecols=(0, 1, 2), dtype={'names': ('d', 't', 'th'), 'formats': ('i4', 'U5', 'f8')}) # d = day, t = time, th = tide height\n",
    "\n",
    "# Extracting day, time, and tide height from the data\n",
    "days_data = data_set['d']\n",
    "times_data = np.array([int(entry.split(':')[0]) + int(entry.split(':')[1])/60 for entry in data_set['t']])\n",
    "tide_heights_data = data_set['th']\n",
    "\n",
    "# Defining an oscillatory function\n",
    "def tidal_oscillation(t, amplitude, angular_frequency, phase_shift, constant_offset):\n",
    "    return amplitude * np.sin(angular_frequency * t + phase_shift) + constant_offset\n",
    "\n",
    "# Initialing guess for the parameters\n",
    "initial_parameters = [4, 2 * np.pi / 24, 0, 0]\n",
    "\n",
    "# Defining the root mean squared experimental error\n",
    "rmse_value = 0.25\n",
    "\n",
    "# Fitting the model to the data with the specified error\n",
    "fitted_params, covariance_matrix = curve_fit(tidal_oscillation, times_data, tide_heights_data, p0=initial_parameters, sigma=np.full_like(tide_heights_data, rmse_value))\n",
    "\n",
    "# Generating time points for the fitted curve\n",
    "fitted_times = np.linspace(min(times_data), max(times_data), 1000)\n",
    "\n",
    "# Ploting the original data and the fitted curve\n",
    "plt.scatter(times_data, tide_heights_data, label='Observed Data')\n",
    "plt.plot(fitted_times, tidal_oscillation(fitted_times, *fitted_params), 'r-', label='Fitted Tidal Curve')\n",
    "\n",
    "plt.xlabel('Time (hours)')\n",
    "plt.ylabel('Tide Height (feet)')\n",
    "plt.title('Tidal Measurements and Fitted Tidal Oscillation')\n",
    "plt.legend()\n",
    "\n",
    "\n",
    "plt.savefig('fitted_tidal_plot.pdf')\n",
    "\n",
    "plt.show()\n"
   ]
  },
  {
   "cell_type": "code",
   "execution_count": null,
   "id": "5afa3f66-53bd-4965-9918-d7ef809e59f3",
   "metadata": {},
   "outputs": [],
   "source": []
  }
 ],
 "metadata": {
  "kernelspec": {
   "display_name": "Python 3 (ipykernel)",
   "language": "python",
   "name": "python3"
  },
  "language_info": {
   "codemirror_mode": {
    "name": "ipython",
    "version": 3
   },
   "file_extension": ".py",
   "mimetype": "text/x-python",
   "name": "python",
   "nbconvert_exporter": "python",
   "pygments_lexer": "ipython3",
   "version": "3.8.10"
  }
 },
 "nbformat": 4,
 "nbformat_minor": 5
}
